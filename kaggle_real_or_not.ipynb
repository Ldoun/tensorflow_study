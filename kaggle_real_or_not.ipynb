{
  "nbformat": 4,
  "nbformat_minor": 0,
  "metadata": {
    "colab": {
      "name": "kaggle_real_or_not",
      "provenance": [],
      "collapsed_sections": [],
      "authorship_tag": "ABX9TyOmhcScLZp6vGiqGmDSTYi0",
      "include_colab_link": true
    },
    "kernelspec": {
      "name": "python3",
      "display_name": "Python 3"
    }
  },
  "cells": [
    {
      "cell_type": "markdown",
      "metadata": {
        "id": "view-in-github",
        "colab_type": "text"
      },
      "source": [
        "<a href=\"https://colab.research.google.com/github/Ldoun/tensorflow_study/blob/master/kaggle_real_or_not.ipynb\" target=\"_parent\"><img src=\"https://colab.research.google.com/assets/colab-badge.svg\" alt=\"Open In Colab\"/></a>"
      ]
    },
    {
      "cell_type": "code",
      "metadata": {
        "id": "dgb05QwAgKZr",
        "colab_type": "code",
        "colab": {
          "resources": {
            "http://localhost:8080/nbextensions/google.colab/files.js": {
              "data": "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",
              "ok": true,
              "headers": [
                [
                  "content-type",
                  "application/javascript"
                ]
              ],
              "status": 200,
              "status_text": ""
            }
          },
          "base_uri": "https://localhost:8080/",
          "height": 710
        },
        "outputId": "4e27775a-acba-4872-cfaa-f8a1003d6d2c"
      },
      "source": [
        "# API Token 다운받기\n",
        "# 다운받은 API Token 업로드 하기\n",
        "!pip install kaggle\n",
        "from google.colab import files\n",
        "files.upload()\n",
        "# json 파일 옮겨주기\n",
        "\n",
        "!mkdir -p ~/.kaggle\n",
        "!cp kaggle.json ~/.kaggle/\n",
        "# Permission Warning 이 일어나지 않도록 \n",
        "!chmod 600 ~/.kaggle/kaggle.json\n",
        "# json 파일 제대로 업로드 됐는지 확인\n",
        "!ls -1ha kaggle.json\n",
        "# 본인이 참가한 모든 대회 보기 \n",
        "!kaggle competitions list\n",
        "# 데이터셋 다운로드 받기 - 링크는 그 대회 'Data'에 있음\n",
        "! kaggle competitions download -c nlp-getting-started\n",
        "# 다운로드 된 것들 다 보기 \n",
        "!ls"
      ],
      "execution_count": null,
      "outputs": [
        {
          "output_type": "stream",
          "text": [
            "Requirement already satisfied: kaggle in /usr/local/lib/python3.6/dist-packages (1.5.6)\n",
            "Requirement already satisfied: python-dateutil in /usr/local/lib/python3.6/dist-packages (from kaggle) (2.8.1)\n",
            "Requirement already satisfied: tqdm in /usr/local/lib/python3.6/dist-packages (from kaggle) (4.41.1)\n",
            "Requirement already satisfied: python-slugify in /usr/local/lib/python3.6/dist-packages (from kaggle) (4.0.1)\n",
            "Requirement already satisfied: urllib3<1.25,>=1.21.1 in /usr/local/lib/python3.6/dist-packages (from kaggle) (1.24.3)\n",
            "Requirement already satisfied: six>=1.10 in /usr/local/lib/python3.6/dist-packages (from kaggle) (1.15.0)\n",
            "Requirement already satisfied: requests in /usr/local/lib/python3.6/dist-packages (from kaggle) (2.23.0)\n",
            "Requirement already satisfied: certifi in /usr/local/lib/python3.6/dist-packages (from kaggle) (2020.6.20)\n",
            "Requirement already satisfied: text-unidecode>=1.3 in /usr/local/lib/python3.6/dist-packages (from python-slugify->kaggle) (1.3)\n",
            "Requirement already satisfied: chardet<4,>=3.0.2 in /usr/local/lib/python3.6/dist-packages (from requests->kaggle) (3.0.4)\n",
            "Requirement already satisfied: idna<3,>=2.5 in /usr/local/lib/python3.6/dist-packages (from requests->kaggle) (2.10)\n"
          ],
          "name": "stdout"
        },
        {
          "output_type": "display_data",
          "data": {
            "text/html": [
              "\n",
              "     <input type=\"file\" id=\"files-5eb96db6-e4cf-46b8-826a-ab14efe300a8\" name=\"files[]\" multiple disabled\n",
              "        style=\"border:none\" />\n",
              "     <output id=\"result-5eb96db6-e4cf-46b8-826a-ab14efe300a8\">\n",
              "      Upload widget is only available when the cell has been executed in the\n",
              "      current browser session. Please rerun this cell to enable.\n",
              "      </output>\n",
              "      <script src=\"/nbextensions/google.colab/files.js\"></script> "
            ],
            "text/plain": [
              "<IPython.core.display.HTML object>"
            ]
          },
          "metadata": {
            "tags": []
          }
        },
        {
          "output_type": "stream",
          "text": [
            "Saving kaggle.json to kaggle.json\n",
            "kaggle.json\n",
            "Warning: Looks like you're using an outdated API Version, please consider updating (server 1.5.6 / client 1.5.4)\n",
            "ref                                            deadline             category            reward  teamCount  userHasEntered  \n",
            "---------------------------------------------  -------------------  ---------------  ---------  ---------  --------------  \n",
            "contradictory-my-dear-watson                   2030-07-01 23:59:00  Getting Started     Prizes         15           False  \n",
            "tpu-getting-started                            2030-06-03 23:59:00  Getting Started  Knowledge        265           False  \n",
            "digit-recognizer                               2030-01-01 00:00:00  Getting Started  Knowledge       2839           False  \n",
            "titanic                                        2030-01-01 00:00:00  Getting Started  Knowledge      21611            True  \n",
            "house-prices-advanced-regression-techniques    2030-01-01 00:00:00  Getting Started  Knowledge       5108            True  \n",
            "connectx                                       2030-01-01 00:00:00  Getting Started  Knowledge        859           False  \n",
            "nlp-getting-started                            2030-01-01 00:00:00  Getting Started  Knowledge       1558            True  \n",
            "competitive-data-science-predict-future-sales  2020-12-31 23:59:00  Playground           Kudos       8078           False  \n",
            "osic-pulmonary-fibrosis-progression            2020-10-06 23:59:00  Featured           $55,000        588           False  \n",
            "landmark-recognition-2020                      2020-09-29 23:59:00  Research           $25,000         31           False  \n",
            "halite                                         2020-09-15 23:59:00  Featured              Swag        865           False  \n",
            "birdsong-recognition                           2020-09-15 23:59:00  Research           $25,000        600           False  \n",
            "landmark-retrieval-2020                        2020-08-17 23:59:00  Research           $25,000        339           False  \n",
            "siim-isic-melanoma-classification              2020-08-17 23:59:00  Featured           $30,000       2885           False  \n",
            "open-images-object-detection-rvc-2020          2020-08-14 16:00:00  Playground       Knowledge         73           False  \n",
            "open-images-instance-segmentation-rvc-2020     2020-08-14 16:00:00  Playground       Knowledge         13           False  \n",
            "global-wheat-detection                         2020-08-04 23:59:00  Research           $15,000       2138           False  \n",
            "hashcode-photo-slideshow                       2020-07-27 23:59:00  Playground       Knowledge         89           False  \n",
            "prostate-cancer-grade-assessment               2020-07-22 23:59:00  Featured           $25,000       1010           False  \n",
            "alaska2-image-steganalysis                     2020-07-20 23:59:00  Research           $25,000       1095           False  \n",
            "kaggle.json  sample_data\n"
          ],
          "name": "stdout"
        }
      ]
    },
    {
      "cell_type": "code",
      "metadata": {
        "id": "VYrFTHATgeA1",
        "colab_type": "code",
        "colab": {
          "base_uri": "https://localhost:8080/",
          "height": 158
        },
        "outputId": "a19cfee6-1196-450c-b408-6e947dbd5e57"
      },
      "source": [
        "! kaggle competitions download -c nlp-getting-started"
      ],
      "execution_count": null,
      "outputs": [
        {
          "output_type": "stream",
          "text": [
            "Warning: Looks like you're using an outdated API Version, please consider updating (server 1.5.6 / client 1.5.4)\n",
            "Downloading train.csv to /content\n",
            "  0% 0.00/965k [00:00<?, ?B/s]\n",
            "100% 965k/965k [00:00<00:00, 65.0MB/s]\n",
            "Downloading test.csv to /content\n",
            "  0% 0.00/411k [00:00<?, ?B/s]\n",
            "100% 411k/411k [00:00<00:00, 140MB/s]\n",
            "sample_submission.csv: Skipping, found more recently modified local copy (use --force to force download)\n"
          ],
          "name": "stdout"
        }
      ]
    },
    {
      "cell_type": "code",
      "metadata": {
        "id": "z83y2UJGhnSy",
        "colab_type": "code",
        "colab": {}
      },
      "source": [
        "#전처리용\n",
        "import pandas as pd\n",
        "from tensorflow.keras.preprocessing.text import Tokenizer\n",
        "from tensorflow.keras.preprocessing.sequence import pad_sequences"
      ],
      "execution_count": null,
      "outputs": []
    },
    {
      "cell_type": "code",
      "metadata": {
        "id": "X-6ZcXvCt2mP",
        "colab_type": "code",
        "colab": {}
      },
      "source": [
        "train=pd.read_csv('train.csv')"
      ],
      "execution_count": null,
      "outputs": []
    },
    {
      "cell_type": "code",
      "metadata": {
        "id": "BfainKvTv4rp",
        "colab_type": "code",
        "colab": {
          "base_uri": "https://localhost:8080/",
          "height": 402
        },
        "outputId": "415b629f-3567-4245-adf5-4189e4bacce7"
      },
      "source": [
        "train"
      ],
      "execution_count": null,
      "outputs": [
        {
          "output_type": "execute_result",
          "data": {
            "text/html": [
              "<div>\n",
              "<style scoped>\n",
              "    .dataframe tbody tr th:only-of-type {\n",
              "        vertical-align: middle;\n",
              "    }\n",
              "\n",
              "    .dataframe tbody tr th {\n",
              "        vertical-align: top;\n",
              "    }\n",
              "\n",
              "    .dataframe thead th {\n",
              "        text-align: right;\n",
              "    }\n",
              "</style>\n",
              "<table border=\"1\" class=\"dataframe\">\n",
              "  <thead>\n",
              "    <tr style=\"text-align: right;\">\n",
              "      <th></th>\n",
              "      <th>id</th>\n",
              "      <th>keyword</th>\n",
              "      <th>location</th>\n",
              "      <th>text</th>\n",
              "      <th>target</th>\n",
              "    </tr>\n",
              "  </thead>\n",
              "  <tbody>\n",
              "    <tr>\n",
              "      <th>0</th>\n",
              "      <td>1</td>\n",
              "      <td>NaN</td>\n",
              "      <td>NaN</td>\n",
              "      <td>Our Deeds are the Reason of this #earthquake M...</td>\n",
              "      <td>1</td>\n",
              "    </tr>\n",
              "    <tr>\n",
              "      <th>1</th>\n",
              "      <td>4</td>\n",
              "      <td>NaN</td>\n",
              "      <td>NaN</td>\n",
              "      <td>Forest fire near La Ronge Sask. Canada</td>\n",
              "      <td>1</td>\n",
              "    </tr>\n",
              "    <tr>\n",
              "      <th>2</th>\n",
              "      <td>5</td>\n",
              "      <td>NaN</td>\n",
              "      <td>NaN</td>\n",
              "      <td>All residents asked to 'shelter in place' are ...</td>\n",
              "      <td>1</td>\n",
              "    </tr>\n",
              "    <tr>\n",
              "      <th>3</th>\n",
              "      <td>6</td>\n",
              "      <td>NaN</td>\n",
              "      <td>NaN</td>\n",
              "      <td>13,000 people receive #wildfires evacuation or...</td>\n",
              "      <td>1</td>\n",
              "    </tr>\n",
              "    <tr>\n",
              "      <th>4</th>\n",
              "      <td>7</td>\n",
              "      <td>NaN</td>\n",
              "      <td>NaN</td>\n",
              "      <td>Just got sent this photo from Ruby #Alaska as ...</td>\n",
              "      <td>1</td>\n",
              "    </tr>\n",
              "    <tr>\n",
              "      <th>...</th>\n",
              "      <td>...</td>\n",
              "      <td>...</td>\n",
              "      <td>...</td>\n",
              "      <td>...</td>\n",
              "      <td>...</td>\n",
              "    </tr>\n",
              "    <tr>\n",
              "      <th>7608</th>\n",
              "      <td>10869</td>\n",
              "      <td>NaN</td>\n",
              "      <td>NaN</td>\n",
              "      <td>Two giant cranes holding a bridge collapse int...</td>\n",
              "      <td>1</td>\n",
              "    </tr>\n",
              "    <tr>\n",
              "      <th>7609</th>\n",
              "      <td>10870</td>\n",
              "      <td>NaN</td>\n",
              "      <td>NaN</td>\n",
              "      <td>@aria_ahrary @TheTawniest The out of control w...</td>\n",
              "      <td>1</td>\n",
              "    </tr>\n",
              "    <tr>\n",
              "      <th>7610</th>\n",
              "      <td>10871</td>\n",
              "      <td>NaN</td>\n",
              "      <td>NaN</td>\n",
              "      <td>M1.94 [01:04 UTC]?5km S of Volcano Hawaii. htt...</td>\n",
              "      <td>1</td>\n",
              "    </tr>\n",
              "    <tr>\n",
              "      <th>7611</th>\n",
              "      <td>10872</td>\n",
              "      <td>NaN</td>\n",
              "      <td>NaN</td>\n",
              "      <td>Police investigating after an e-bike collided ...</td>\n",
              "      <td>1</td>\n",
              "    </tr>\n",
              "    <tr>\n",
              "      <th>7612</th>\n",
              "      <td>10873</td>\n",
              "      <td>NaN</td>\n",
              "      <td>NaN</td>\n",
              "      <td>The Latest: More Homes Razed by Northern Calif...</td>\n",
              "      <td>1</td>\n",
              "    </tr>\n",
              "  </tbody>\n",
              "</table>\n",
              "<p>7613 rows × 5 columns</p>\n",
              "</div>"
            ],
            "text/plain": [
              "         id keyword  ...                                               text target\n",
              "0         1     NaN  ...  Our Deeds are the Reason of this #earthquake M...      1\n",
              "1         4     NaN  ...             Forest fire near La Ronge Sask. Canada      1\n",
              "2         5     NaN  ...  All residents asked to 'shelter in place' are ...      1\n",
              "3         6     NaN  ...  13,000 people receive #wildfires evacuation or...      1\n",
              "4         7     NaN  ...  Just got sent this photo from Ruby #Alaska as ...      1\n",
              "...     ...     ...  ...                                                ...    ...\n",
              "7608  10869     NaN  ...  Two giant cranes holding a bridge collapse int...      1\n",
              "7609  10870     NaN  ...  @aria_ahrary @TheTawniest The out of control w...      1\n",
              "7610  10871     NaN  ...  M1.94 [01:04 UTC]?5km S of Volcano Hawaii. htt...      1\n",
              "7611  10872     NaN  ...  Police investigating after an e-bike collided ...      1\n",
              "7612  10873     NaN  ...  The Latest: More Homes Razed by Northern Calif...      1\n",
              "\n",
              "[7613 rows x 5 columns]"
            ]
          },
          "metadata": {
            "tags": []
          },
          "execution_count": 14
        }
      ]
    },
    {
      "cell_type": "code",
      "metadata": {
        "id": "_OL3HaGSv5aq",
        "colab_type": "code",
        "colab": {
          "base_uri": "https://localhost:8080/",
          "height": 52
        },
        "outputId": "877aee27-71b9-44b1-dfd3-5de42ef3fe5e"
      },
      "source": [
        "# train['keyword].count(None) 다른 값 나오\n",
        "print('전체 keyword 수',len(train['keyword']))\n",
        "print('keyword 수:',(len(train['keyword'])-train['keyword'].isnull().sum()))"
      ],
      "execution_count": null,
      "outputs": [
        {
          "output_type": "stream",
          "text": [
            "전체 keyword 수 7613\n",
            "keyword 수: 7552\n"
          ],
          "name": "stdout"
        }
      ]
    },
    {
      "cell_type": "code",
      "metadata": {
        "id": "bZExnmiA1amF",
        "colab_type": "code",
        "colab": {
          "base_uri": "https://localhost:8080/",
          "height": 52
        },
        "outputId": "06874b31-b6e5-4e7a-97d3-6b8bb5976799"
      },
      "source": [
        "#loction 없는게 너무 많음\n",
        "print('전체 location 수',len(train['location']))\n",
        "print('location 수:',(len(train['location'])-train['location'].isnull().sum()))"
      ],
      "execution_count": null,
      "outputs": [
        {
          "output_type": "stream",
          "text": [
            "전체 location 수 7613\n",
            "location 수: 5080\n"
          ],
          "name": "stdout"
        }
      ]
    },
    {
      "cell_type": "code",
      "metadata": {
        "id": "mFDQttJE1zjv",
        "colab_type": "code",
        "colab": {
          "base_uri": "https://localhost:8080/",
          "height": 52
        },
        "outputId": "dc64ca00-e28b-43c9-b992-c0aed2e1765f"
      },
      "source": [
        "print('전체 text 수',len(train['text']))\n",
        "print('text 수:',(len(train['text'])-train['text'].isnull().sum()))"
      ],
      "execution_count": null,
      "outputs": [
        {
          "output_type": "stream",
          "text": [
            "전체 text 수 7613\n",
            "text 수: 7613\n"
          ],
          "name": "stdout"
        }
      ]
    },
    {
      "cell_type": "code",
      "metadata": {
        "id": "ebq8bM5Y8Ktr",
        "colab_type": "code",
        "colab": {
          "base_uri": "https://localhost:8080/",
          "height": 70
        },
        "outputId": "126759cd-89f8-4582-a816-472914f33926"
      },
      "source": [
        "print(\"max:\", max(len(i)for i in train['text']))\n",
        "print(\"min:\", min(len(i)for i in train['text']))\n",
        "print(\"mid:\", sum(len(i) for i in train['text'])/len(train['text']))"
      ],
      "execution_count": null,
      "outputs": [
        {
          "output_type": "stream",
          "text": [
            "max: 157\n",
            "min: 7\n",
            "mid: 101.03743596479706\n"
          ],
          "name": "stdout"
        }
      ]
    },
    {
      "cell_type": "code",
      "metadata": {
        "id": "zYTc_dT919MK",
        "colab_type": "code",
        "colab": {
          "base_uri": "https://localhost:8080/",
          "height": 34
        },
        "outputId": "27912a68-80dc-4487-a408-2664ba997871"
      },
      "source": [
        "tokenizer=Tokenizer(10000)\n",
        "tokenizer.fit_on_texts(train['text'])\n",
        "seq=tokenizer.texts_to_sequences(train['text'])\n",
        "print(\"문자 개수\",len(tokenizer.word_index))"
      ],
      "execution_count": null,
      "outputs": [
        {
          "output_type": "stream",
          "text": [
            "문자 개수 22700\n"
          ],
          "name": "stdout"
        }
      ]
    },
    {
      "cell_type": "code",
      "metadata": {
        "id": "JkfA_9dl_RV4",
        "colab_type": "code",
        "colab": {}
      },
      "source": [
        "for i,word in enumerate(train['keyword']):\n",
        "  if isinstance(word,str)==False:\n",
        "    train['keyword'][[i]]=''\n",
        "    print(word)  "
      ],
      "execution_count": null,
      "outputs": []
    },
    {
      "cell_type": "code",
      "metadata": {
        "id": "e3B2m--Q-deX",
        "colab_type": "code",
        "colab": {
          "base_uri": "https://localhost:8080/",
          "height": 72
        },
        "outputId": "774a6c72-f683-422e-883c-c8798b0b6af0"
      },
      "source": [
        "tokenizer_keyword=Tokenizer(500)\n",
        "tokenizer.fit_on_texts(train['keyword'])\n",
        "seq_keyword=tokenizer.texts_to_sequences(train['keyword'])\n",
        "print(seq_keyword)\n",
        "print(\"문자 개수\",max(seq_keyword))"
      ],
      "execution_count": null,
      "outputs": [
        {
          "output_type": "stream",
          "text": [
            "[[34], [34], [34], [34], [34], [34], [34], [34], [34], [34], [34], [34], [34], [34], [34], [34], [34], [34], [34], [34], [34], [34], [34], [34], [34], [34], [34], [34], [34], [34], [34], [162], [162], [162], [162], [162], [162], [162], [162], [162], [162], [162], [162], [162], [162], [162], [162], [162], [162], [162], [162], [162], [162], [162], [162], [162], [162], [162], [162], [162], [162], [162], [162], [162], [162], [162], [162], [54], [54], [54], [54], [54], [54], [54], [54], [54], [54], [54], [54], [54], [54], [54], [54], [54], [54], [54], [54], [54], [54], [54], [54], [54], [54], [54], [54], [54], [54], [54], [54], [54], [54], [54], [217], [217], [217], [217], [217], [217], [217], [217], [217], [217], [217], [217], [217], [217], [217], [217], [217], [217], [217], [217], [217], [217], [217], [217], [217], [217], [217], [217], [217], [217], [217], [217], [217], [217], [163, 245], [163, 245], [163, 245], [163, 245], [163, 245], [163, 245], [163, 245], [163, 245], [163, 245], [163, 245], [163, 245], [163, 245], [163, 245], [163, 245], [163, 245], [163, 245], [163, 245], [163, 245], [163, 245], [163, 245], [163, 245], [163, 245], [163, 245], [163, 245], [163, 245], [163, 245], [163, 245], [163, 245], [163, 245], [163, 245], [163, 245], [163, 245], [163, 245], [163, 245], [163, 245], [100], [100], [100], [100], [100], [100], [100], [100], [100], [100], [100], [100], [100], [100], [100], [100], [100], [100], [100], [100], [100], [100], [100], [100], [100], [100], [100], [100], [100], [100], [100], [100], [100], [100], [100], [100], [100], [100], [197], [197], [197], [197], [197], [197], [197], [197], [197], [197], [197], [197], [197], [197], [197], [197], [197], [197], [197], [197], [197], [197], [197], [197], [197], [197], [197], [197], [197], [197], [197], [197], [197], [197], [276], [276], [276], [276], [276], [276], [276], [276], [276], [276], [276], [276], [276], [276], [276], [276], [276], [276], [276], [276], [276], [276], [276], [276], [276], [276], [276], [276], [276], [219], [219], [219], [219], [219], [219], [219], [219], [219], [219], [219], [219], [219], [219], [219], [219], [219], [219], [219], [219], [219], [219], [219], [219], [219], [219], [219], [219], [219], [219], [219], [219], [61], [61], [61], [61], [61], [61], [61], [61], [61], [61], [61], [61], [61], [61], [61], [61], [61], [61], [61], [61], [61], [61], [61], [61], [61], [61], [61], [61], [61], [61], [61], [61], [61], [61], [61], [61], [61], [61], [61], [61], [61], [61], [93], [93], [93], [93], [93], [93], [93], [93], [93], [93], [93], [93], [93], [93], [93], [93], [93], [93], [93], [93], [93], [93], [93], [93], [93], [93], [93], [93], [93], [93], [93], [93], [93], [93], [230], [230], [230], [230], [230], [230], [230], [230], [230], [230], [230], [230], [230], [230], [230], [230], [230], [230], [230], [230], [230], [230], [230], [230], [230], [230], [230], [230], [230], [230], [230], [230], [215], [215], [215], [215], [215], [215], [215], [215], [215], [215], [215], [215], [215], [215], [215], [215], [215], [215], [215], [215], [215], [215], [215], [215], [215], [215], [215], [215], [215], [215], [215], [215], [215], [215], [48], [48], [48], [48], [48], [48], [48], [48], [48], [48], [48], [48], [48], [48], [48], [48], [48], [48], [48], [48], [48], [48], [48], [48], [48], [48], [48], [48], [48], [48], [48], [48], [48], [48], [48], [48], [145], [145], [145], [145], [145], [145], [145], [145], [145], [145], [145], [145], [145], [145], [145], [145], [145], [145], [145], [145], [145], [145], [145], [145], [145], [145], [145], [145], [145], [145], [145], [145], [145], [145], [145], [258], [258], [258], [258], [258], [258], [258], [258], [258], [258], [258], [258], [258], [258], [258], [258], [258], [258], [258], [258], [258], [258], [258], [258], [258], [258], [258], [258], [258], [258], [280], [280], [280], [280], [280], [280], [280], [280], [280], [280], [280], [280], [280], [280], [280], [280], [280], [280], [280], [280], [280], [280], [280], [280], [280], [280], [127], [127], [127], [127], [127], [127], [127], [127], [127], [127], [127], [127], [127], [127], [127], [127], [127], [127], [127], [127], [127], [127], [127], [127], [127], [127], [127], [127], [127], [127], [127], [127], [127], [127], [127], [127], [127], [254], [254], [254], [254], [254], [254], [254], [254], [254], [254], [254], [254], [254], [254], [254], [254], [254], [254], [254], [254], [254], [254], [254], [254], [254], [254], [254], [254], [254], [254], [136], [136], [136], [136], [136], [136], [136], [136], [136], [136], [136], [136], [136], [136], [136], [136], [136], [136], [136], [136], [136], [136], [136], [136], [136], [136], [136], [136], [136], [136], [136], [136], [136], [136], [136], [136], [136], [136], [191], [191], [191], [191], [191], [191], [191], [191], [191], [191], [191], [191], [191], [191], [191], [191], [191], [191], [191], [191], [191], [191], [191], [191], [191], [191], [191], [191], [191], [191], [191], [191], [191], [191], [164], [164], [164], [164], [164], [164], [164], [164], [164], [164], [164], [164], [164], [164], [164], [164], [164], [164], [164], [164], [164], [164], [164], [164], [164], [164], [164], [164], [164], [164], [164], [164], [164], [164], [164], [210, 33], [210, 33], [210, 33], [210, 33], [210, 33], [210, 33], [210, 33], [210, 33], [210, 33], [210, 33], [210, 33], [210, 33], [210, 33], [210, 33], [210, 33], [210, 33], [210, 33], [210, 33], [210, 33], [210, 33], [210, 33], [210, 33], [210, 33], [210, 33], [210, 33], [210, 33], [210, 33], [210, 33], [210, 33], [210, 33], [210, 33], [210, 33], [210, 33], [235], [235], [235], [235], [235], [235], [235], [235], [235], [235], [235], [235], [235], [235], [235], [235], [235], [235], [235], [235], [235], [235], [235], [235], [235], [235], [235], [235], [235], [235], [235], [235], [151], [151], [151], [151], [151], [151], [151], [151], [151], [151], [151], [151], [151], [151], [151], [151], [151], [151], [151], [151], [151], [151], [151], [151], [151], [151], [151], [151], [151], [151], [151], [151], [151], [151], [151], [151], [151], [140], [140], [140], [140], [140], [140], [140], [140], [140], [140], [140], [140], [140], [140], [140], [140], [140], [140], [140], [140], [140], [140], [140], [140], [140], [140], [140], [140], [140], [140], [140], [140], [140], [140], [140], [131], [131], [131], [131], [131], [131], [131], [131], [131], [131], [131], [131], [131], [131], [131], [131], [131], [131], [131], [131], [131], [131], [131], [131], [131], [131], [131], [131], [131], [131], [131], [131], [131], [131], [131], [203, 33], [203, 33], [203, 33], [203, 33], [203, 33], [203, 33], [203, 33], [203, 33], [203, 33], [203, 33], [203, 33], [203, 33], [203, 33], [203, 33], [203, 33], [203, 33], [203, 33], [203, 33], [203, 33], [203, 33], [203, 33], [203, 33], [203, 33], [203, 33], [203, 33], [203, 33], [203, 33], [203, 33], [203, 33], [203, 33], [203, 33], [203, 33], [203, 33], [14, 261], [14, 261], [14, 261], [14, 261], [14, 261], [14, 261], [14, 261], [14, 261], [14, 261], [14, 261], [14, 261], [14, 261], [14, 261], [14, 261], [14, 261], [14, 261], [14, 261], [14, 261], [14, 261], [14, 261], [14, 261], [14, 261], [14, 261], [14, 261], [14, 261], [14, 261], [14, 261], [14, 261], [14, 261], [14, 261], [14, 261], [14, 261], [14, 261], [14, 262], [14, 262], [14, 262], [14, 262], [14, 262], [14, 262], [14, 262], [14, 262], [14, 262], [14, 262], [14, 262], [14, 262], [14, 262], [14, 262], [14, 262], [14, 262], [14, 262], [14, 262], [14, 262], [14, 262], [14, 262], [14, 262], [14, 262], [14, 262], [14, 262], [14, 262], [14, 262], [14, 262], [14, 262], [14, 262], [14, 262], [14, 262], [14, 262], [14, 143], [14, 143], [14, 143], [14, 143], [14, 143], [14, 143], [14, 143], [14, 143], [14, 143], [14, 143], [14, 143], [14, 143], [14, 143], [14, 143], [14, 143], [14, 143], [14, 143], [14, 143], [14, 143], [14, 143], [14, 143], [14, 143], [14, 143], [14, 143], [14, 143], [14, 143], [14, 143], [14, 143], [14, 143], [14, 143], [14, 143], [14, 143], [14, 143], [14, 143], [14, 143], [14, 143], [14, 143], [14, 143], [14, 143], [14, 143], [14, 143], [52], [52], [52], [52], [52], [52], [52], [52], [52], [52], [52], [52], [52], [52], [52], [52], [52], [52], [52], [52], [52], [52], [52], [52], [52], [52], [52], [52], [52], [52], [52], [52], [52], [52], [104], [104], [104], [104], [104], [104], [104], [104], [104], [104], [104], [104], [104], [104], [104], [104], [104], [104], [104], [104], [104], [104], [104], [104], [104], [104], [104], [104], [104], [104], [104], [104], [104], [104], [104], [104], [104], [104], [185], [185], [185], [185], [185], [185], [185], [185], [185], [185], [185], [185], [185], [185], [185], [185], [185], [185], [185], [185], [185], [185], [185], [185], [185], [185], [185], [185], [185], [148, 246], [148, 246], [148, 246], [148, 246], [148, 246], [148, 246], [148, 246], [148, 246], [148, 246], [148, 246], [148, 246], [148, 246], [148, 246], [148, 246], [148, 246], [148, 246], [148, 246], [148, 246], [148, 246], [148, 246], [148, 246], [148, 246], [148, 246], [148, 246], [148, 246], [148, 246], [148, 246], [148, 246], [148, 246], [148, 246], [148, 246], [148, 246], [148, 246], [148, 246], [148, 246], [23, 247], [23, 247], [23, 247], [23, 247], [23, 247], [23, 247], [23, 247], [23, 247], [23, 247], [23, 247], [23, 247], [23, 247], [23, 247], [23, 247], [23, 247], [23, 247], [23, 247], [23, 247], [23, 247], [23, 247], [23, 247], [23, 247], [23, 247], [23, 247], [23, 247], [23, 247], [23, 247], [23, 247], [23, 247], [23, 247], [23, 247], [23, 247], [23, 247], [23, 247], [23, 247], [23, 263, 44], [23, 263, 44], [23, 263, 44], [23, 263, 44], [23, 263, 44], [23, 263, 44], [23, 263, 44], [23, 263, 44], [23, 263, 44], [23, 263, 44], [23, 263, 44], [23, 263, 44], [23, 263, 44], [23, 263, 44], [23, 263, 44], [23, 263, 44], [23, 263, 44], [23, 263, 44], [23, 263, 44], [23, 263, 44], [23, 263, 44], [23, 263, 44], [23, 263, 44], [23, 263, 44], [23, 263, 44], [23, 263, 44], [23, 263, 44], [23, 263, 44], [23, 263, 44], [23, 263, 44], [23, 263, 44], [23, 263, 44], [23, 263, 44], [190], [190], [190], [190], [190], [190], [190], [190], [190], [190], [190], [190], [190], [190], [190], [190], [190], [190], [190], [190], [190], [190], [190], [190], [190], [190], [190], [190], [190], [190], [190], [190], [190], [20], [20], [20], [20], [20], [20], [20], [20], [20], [20], [20], [20], [20], [20], [20], [20], [20], [20], [20], [20], [20], [20], [20], [20], [20], [20], [20], [20], [20], [20], [20], [20], [20], [20], [20, 222], [20, 222], [20, 222], [20, 222], [20, 222], [20, 222], [20, 222], [20, 222], [20, 222], [20, 222], [20, 222], [20, 222], [20, 222], [20, 222], [20, 222], [20, 222], [20, 222], [20, 222], [20, 222], [20, 222], [20, 222], [20, 222], [20, 222], [20, 222], [20, 222], [20, 222], [20, 222], [20, 222], [20, 222], [20, 222], [20, 222], [20, 222], [20, 222], [20, 222], [20, 222], [20, 222], [20, 222], [290, 21], [290, 21], [290, 21], [290, 21], [290, 21], [290, 21], [290, 21], [290, 21], [290, 21], [290, 21], [290, 21], [290, 21], [290, 21], [290, 21], [290, 21], [290, 21], [290, 21], [290, 21], [290, 21], [290, 21], [290, 21], [290, 21], [290, 21], [290, 21], [290, 21], [166], [166], [166], [166], [166], [166], [166], [166], [166], [166], [166], [166], [166], [166], [166], [166], [166], [166], [166], [166], [166], [166], [166], [166], [166], [166], [166], [166], [166], [166], [166], [166], [166], [166], [166], [193], [193], [193], [193], [193], [193], [193], [193], [193], [193], [193], [193], [193], [193], [193], [193], [193], [193], [193], [193], [193], [193], [193], [193], [193], [193], [193], [193], [193], [193], [193], [193], [193], [193], [138], [138], [138], [138], [138], [138], [138], [138], [138], [138], [138], [138], [138], [138], [138], [138], [138], [138], [138], [138], [138], [138], [138], [138], [138], [138], [138], [138], [138], [138], [138], [138], [138], [138], [138], [138], [251], [251], [251], [251], [251], [251], [251], [251], [251], [251], [251], [251], [251], [251], [251], [251], [251], [251], [251], [251], [251], [251], [251], [251], [251], [251], [251], [251], [251], [251], [200, 123], [200, 123], [200, 123], [200, 123], [200, 123], [200, 123], [200, 123], [200, 123], [200, 123], [200, 123], [200, 123], [200, 123], [200, 123], [200, 123], [200, 123], [200, 123], [200, 123], [200, 123], [200, 123], [200, 123], [200, 123], [200, 123], [200, 123], [200, 123], [200, 123], [200, 123], [200, 123], [200, 123], [200, 123], [200, 123], [200, 123], [200, 123], [200, 123], [146, 236], [146, 236], [146, 236], [146, 236], [146, 236], [146, 236], [146, 236], [146, 236], [146, 236], [146, 236], [146, 236], [146, 236], [146, 236], [146, 236], [146, 236], [146, 236], [146, 236], [146, 236], [146, 236], [146, 236], [146, 236], [146, 236], [146, 236], [146, 236], [146, 236], [146, 236], [146, 236], [146, 236], [146, 236], [146, 236], [146, 236], [146, 236], [146, 236], [146, 236], [146, 236], [146, 236], [81], [81], [81], [81], [81], [81], [81], [81], [81], [81], [81], [81], [81], [81], [81], [81], [81], [81], [81], [81], [81], [81], [81], [81], [81], [81], [81], [81], [81], [81], [81], [81], [81], [81], [159], [159], [159], [159], [159], [159], [159], [159], [159], [159], [159], [159], [159], [159], [159], [159], [159], [159], [159], [159], [159], [159], [159], [159], [159], [159], [159], [159], [159], [159], [159], [159], [159], [159], [159], [194], [194], [194], [194], [194], [194], [194], [194], [194], [194], [194], [194], [194], [194], [194], [194], [194], [194], [194], [194], [194], [194], [194], [194], [194], [194], [194], [194], [194], [194], [194], [194], [194], [194], [68], [68], [68], [68], [68], [68], [68], [68], [68], [68], [68], [68], [68], [68], [68], [68], [68], [68], [68], [68], [68], [68], [68], [68], [68], [68], [68], [68], [68], [68], [68], [68], [68], [68], [68], [68], [68], [68], [68], [68], [83], [83], [83], [83], [83], [83], [83], [83], [83], [83], [83], [83], [83], [83], [83], [83], [83], [83], [83], [83], [83], [83], [83], [83], [83], [83], [83], [83], [83], [83], [83], [83], [83], [83], [83], [83], [83], [83], [83], [47], [47], [47], [47], [47], [47], [47], [47], [47], [47], [47], [47], [47], [47], [47], [47], [47], [47], [47], [47], [47], [47], [47], [47], [47], [47], [47], [47], [47], [47], [47], [47], [47], [178], [178], [178], [178], [178], [178], [178], [178], [178], [178], [178], [178], [178], [178], [178], [178], [178], [178], [178], [178], [178], [178], [178], [178], [178], [178], [178], [178], [178], [178], [178], [178], [178], [178], [114], [114], [114], [114], [114], [114], [114], [114], [114], [114], [114], [114], [114], [114], [114], [114], [114], [114], [114], [114], [114], [114], [114], [114], [114], [114], [114], [114], [114], [114], [114], [114], [114], [114], [114], [114], [114], [241], [241], [241], [241], [241], [241], [241], [241], [241], [241], [241], [241], [241], [241], [241], [241], [241], [241], [241], [241], [241], [241], [241], [241], [241], [241], [241], [241], [241], [241], [241], [116], [116], [116], [116], [116], [116], [116], [116], [116], [116], [116], [116], [116], [116], [116], [116], [116], [116], [116], [116], [116], [116], [116], [116], [116], [116], [116], [116], [116], [116], [116], [116], [116], [116], [116], [116], [116], [231], [231], [231], [231], [231], [231], [231], [231], [231], [231], [231], [231], [231], [231], [231], [231], [231], [231], [231], [231], [231], [231], [231], [231], [231], [231], [231], [231], [231], [231], [231], [231], [51], [51], [51], [51], [51], [51], [51], [51], [51], [51], [51], [51], [51], [51], [51], [51], [51], [51], [51], [51], [51], [51], [51], [51], [51], [51], [51], [51], [51], [51], [51], [51], [51], [51], [51], [51], [51], [51], [51], [51], [51], [133], [133], [133], [133], [133], [133], [133], [133], [133], [133], [133], [133], [133], [133], [133], [133], [133], [133], [133], [133], [133], [133], [133], [133], [133], [133], [133], [133], [133], [133], [133], [133], [133], [133], [133], [133], [98], [98], [98], [98], [98], [98], [98], [98], [98], [98], [98], [98], [98], [98], [98], [98], [98], [98], [98], [98], [98], [98], [98], [98], [98], [98], [98], [98], [98], [98], [67], [67], [67], [67], [67], [67], [67], [67], [67], [67], [67], [67], [67], [67], [67], [67], [67], [67], [67], [67], [67], [67], [67], [67], [67], [67], [67], [67], [67], [67], [67], [67], [67], [67], [67], [67], [103], [103], [103], [103], [103], [103], [103], [103], [103], [103], [103], [103], [103], [103], [103], [103], [103], [103], [103], [103], [103], [103], [103], [103], [103], [103], [103], [103], [103], [103], [103], [103], [103], [103], [103], [103], [103], [103], [92], [92], [92], [92], [92], [92], [92], [92], [92], [92], [92], [92], [92], [92], [92], [92], [92], [92], [92], [92], [92], [92], [92], [92], [92], [92], [92], [92], [92], [92], [92], [92], [92], [92], [92], [92], [92], [59], [59], [59], [59], [59], [59], [59], [59], [59], [59], [59], [59], [59], [59], [59], [59], [59], [59], [59], [59], [59], [59], [59], [59], [59], [59], [59], [59], [59], [59], [59], [59], [59], [59], [59], [59], [59], [59], [59], [59], [59], [59], [286], [286], [286], [286], [286], [286], [286], [286], [286], [286], [286], [286], [286], [286], [286], [286], [286], [286], [286], [286], [286], [286], [286], [286], [286], [286], [286], [195], [195], [195], [195], [195], [195], [195], [195], [195], [195], [195], [195], [195], [195], [195], [195], [195], [195], [195], [195], [195], [195], [195], [195], [195], [195], [195], [195], [195], [195], [195], [195], [195], [195], [274], [274], [274], [274], [274], [274], [274], [274], [274], [274], [274], [274], [274], [274], [274], [274], [274], [274], [274], [274], [274], [274], [274], [274], [274], [274], [274], [274], [177], [177], [177], [177], [177], [177], [177], [177], [177], [177], [177], [177], [177], [177], [177], [177], [177], [177], [177], [177], [177], [177], [177], [177], [177], [177], [177], [177], [177], [177], [177], [177], [177], [177], [177], [167], [167], [167], [167], [167], [167], [167], [167], [167], [167], [167], [167], [167], [167], [167], [167], [167], [167], [167], [167], [167], [167], [167], [167], [167], [167], [167], [167], [167], [167], [167], [167], [167], [167], [167], [107], [107], [107], [107], [107], [107], [107], [107], [107], [107], [107], [107], [107], [107], [107], [107], [107], [107], [107], [107], [107], [107], [107], [107], [107], [107], [107], [107], [107], [107], [107], [107], [107], [107], [107], [107], [107], [107], [82], [82], [82], [82], [82], [82], [82], [82], [82], [82], [82], [82], [82], [82], [82], [82], [82], [82], [82], [82], [82], [82], [82], [82], [82], [82], [82], [82], [82], [82], [82], [82], [82], [82], [82], [82], [82], [82], [82], [273], [273], [273], [273], [273], [273], [273], [273], [273], [273], [273], [273], [273], [273], [273], [273], [273], [273], [273], [273], [273], [273], [273], [273], [273], [273], [273], [273], [273], [141], [141], [141], [141], [141], [141], [141], [141], [141], [141], [141], [141], [141], [141], [141], [141], [141], [141], [141], [141], [141], [141], [141], [141], [141], [141], [141], [141], [141], [141], [141], [141], [141], [141], [141], [141], [110], [110], [110], [110], [110], [110], [110], [110], [110], [110], [110], [110], [110], [110], [110], [110], [110], [110], [110], [110], [110], [110], [110], [110], [110], [110], [110], [110], [110], [110], [110], [110], [110], [110], [110], [110], [110], [209], [209], [209], [209], [209], [209], [209], [209], [209], [209], [209], [209], [209], [209], [209], [209], [209], [209], [209], [209], [209], [209], [209], [209], [209], [209], [209], [209], [209], [209], [209], [209], [172], [172], [172], [172], [172], [172], [172], [172], [172], [172], [172], [172], [172], [172], [172], [172], [172], [172], [172], [172], [172], [172], [172], [172], [172], [172], [172], [172], [172], [172], [172], [172], [172], [172], [160], [160], [160], [160], [160], [160], [160], [160], [160], [160], [160], [160], [160], [160], [160], [160], [160], [160], [160], [160], [160], [160], [160], [160], [160], [160], [160], [160], [160], [160], [160], [160], [160], [160], [160], [160], [229], [229], [229], [229], [229], [229], [229], [229], [229], [229], [229], [229], [229], [229], [229], [229], [229], [229], [229], [229], [229], [229], [229], [229], [229], [229], [229], [229], [229], [229], [229], [229], [214], [214], [214], [214], [214], [214], [214], [214], [214], [214], [214], [214], [214], [214], [214], [214], [214], [214], [214], [214], [214], [214], [214], [214], [214], [214], [214], [214], [214], [214], [214], [139], [139], [139], [139], [139], [139], [139], [139], [139], [139], [139], [139], [139], [139], [139], [139], [139], [139], [139], [139], [139], [139], [139], [139], [139], [139], [139], [139], [139], [139], [139], [139], [139], [139], [139], [139], [41], [41], [41], [41], [41], [41], [41], [41], [41], [41], [41], [41], [41], [41], [41], [41], [41], [41], [41], [41], [41], [41], [41], [41], [41], [41], [41], [41], [41], [41], [41], [41], [41], [41], [41], [129], [129], [129], [129], [129], [129], [129], [129], [129], [129], [129], [129], [129], [129], [129], [129], [129], [129], [129], [129], [129], [129], [129], [129], [129], [129], [129], [129], [129], [129], [129], [129], [129], [129], [129], [129], [150], [150], [150], [150], [150], [150], [150], [150], [150], [150], [150], [150], [150], [150], [150], [150], [150], [150], [150], [150], [150], [150], [150], [150], [150], [150], [150], [150], [150], [150], [150], [150], [150], [150], [150], [224], [224], [224], [224], [224], [224], [224], [224], [224], [224], [224], [224], [224], [224], [224], [224], [224], [224], [224], [224], [224], [224], [224], [224], [224], [224], [224], [224], [224], [224], [224], [224], [115], [115], [115], [115], [115], [115], [115], [115], [115], [115], [115], [115], [115], [115], [115], [115], [115], [115], [115], [115], [115], [115], [115], [115], [115], [115], [115], [115], [115], [115], [115], [115], [115], [115], [115], [115], [115], [115], [183], [183], [183], [183], [183], [183], [183], [183], [183], [183], [183], [183], [183], [183], [183], [183], [183], [183], [183], [183], [183], [183], [183], [183], [183], [183], [183], [183], [183], [183], [183], [183], [183], [183], [130, 30], [130, 30], [130, 30], [130, 30], [130, 30], [130, 30], [130, 30], [130, 30], [130, 30], [130, 30], [130, 30], [130, 30], [130, 30], [130, 30], [130, 30], [130, 30], [130, 30], [130, 30], [130, 30], [130, 30], [130, 30], [130, 30], [130, 30], [130, 30], [130, 30], [130, 30], [130, 30], [130, 30], [130, 30], [130, 30], [130, 30], [130, 30], [130, 30], [130, 30], [130, 30], [130, 30], [66], [66], [66], [66], [66], [66], [66], [66], [66], [66], [66], [66], [66], [66], [66], [66], [66], [66], [66], [66], [66], [66], [66], [66], [66], [66], [66], [66], [66], [66], [66], [66], [66], [66], [66], [66], [66], [66], [66], [233], [233], [233], [233], [233], [233], [233], [233], [233], [233], [233], [233], [233], [233], [233], [233], [233], [233], [233], [233], [233], [233], [233], [233], [233], [233], [233], [233], [233], [233], [233], [233], [186], [186], [186], [186], [186], [186], [186], [186], [186], [186], [186], [186], [186], [186], [186], [186], [186], [186], [186], [186], [186], [186], [186], [186], [186], [186], [186], [186], [186], [186], [186], [186], [186], [186], [13], [13], [13], [13], [13], [13], [13], [13], [13], [13], [13], [13], [13], [13], [13], [13], [13], [13], [13], [13], [13], [13], [13], [13], [13], [13], [13], [13], [13], [13], [13], [13], [13], [13], [13], [13], [13], [13, 248], [13, 248], [13, 248], [13, 248], [13, 248], [13, 248], [13, 248], [13, 248], [13, 248], [13, 248], [13, 248], [13, 248], [13, 248], [13, 248], [13, 248], [13, 248], [13, 248], [13, 248], [13, 248], [13, 248], [13, 248], [13, 248], [13, 248], [13, 248], [13, 248], [13, 248], [13, 248], [13, 248], [13, 248], [13, 248], [13, 248], [13, 248], [13, 248], [13, 248], [13, 248], [13, 264], [13, 264], [13, 264], [13, 264], [13, 264], [13, 264], [13, 264], [13, 264], [13, 264], [13, 264], [13, 264], [13, 264], [13, 264], [13, 264], [13, 264], [13, 264], [13, 264], [13, 264], [13, 264], [13, 264], [13, 264], [13, 264], [13, 264], [13, 264], [13, 264], [13, 264], [13, 264], [13, 264], [13, 264], [13, 264], [13, 264], [13, 264], [13, 264], [142], [142], [142], [142], [142], [142], [142], [142], [142], [142], [142], [142], [142], [142], [142], [142], [142], [142], [142], [142], [142], [142], [142], [142], [142], [142], [142], [142], [142], [142], [142], [142], [142], [142], [142], [142], [351], [351], [351], [351], [351], [351], [351], [351], [351], [351], [351], [351], [65], [65], [65], [65], [65], [65], [65], [65], [65], [65], [65], [65], [65], [65], [65], [65], [65], [65], [65], [65], [65], [65], [65], [65], [65], [65], [65], [65], [65], [65], [65], [65], [65], [65], [65], [65], [65], [65], [65], [65], [149], [149], [149], [149], [149], [149], [149], [149], [149], [149], [149], [149], [149], [149], [149], [149], [149], [149], [149], [149], [149], [149], [149], [149], [149], [149], [149], [149], [149], [149], [149], [149], [149], [149], [149], [149], [105], [105], [105], [105], [105], [105], [105], [105], [105], [105], [105], [105], [105], [105], [105], [105], [105], [105], [105], [105], [105], [105], [105], [105], [105], [105], [105], [105], [105], [105], [105], [105], [105], [105], [105], [105], [99], [99], [99], [99], [99], [99], [99], [99], [99], [99], [99], [99], [99], [99], [99], [99], [99], [99], [99], [99], [99], [99], [99], [99], [99], [99], [99], [99], [99], [99], [99], [99], [99], [99], [99], [99], [99], [99], [208], [208], [208], [208], [208], [208], [208], [208], [208], [208], [208], [208], [208], [208], [208], [208], [208], [208], [208], [208], [208], [208], [208], [208], [208], [208], [208], [208], [208], [208], [208], [208], [208], [72], [72], [72], [72], [72], [72], [72], [72], [72], [72], [72], [72], [72], [72], [72], [72], [72], [72], [72], [72], [72], [72], [72], [72], [72], [72], [72], [72], [72], [72], [72], [72], [72], [72], [72], [72], [72], [72], [72], [234], [234], [234], [234], [234], [234], [234], [234], [234], [234], [234], [234], [234], [234], [234], [234], [234], [234], [234], [234], [234], [234], [234], [234], [234], [234], [234], [234], [234], [234], [234], [234], [94], [94], [94], [94], [94], [94], [94], [94], [94], [94], [94], [94], [94], [94], [94], [94], [94], [94], [94], [94], [94], [94], [94], [94], [94], [94], [94], [94], [94], [94], [94], [94], [94], [94], [94], [94], [94], [94], [94], [56], [56], [56], [56], [56], [56], [56], [56], [56], [56], [56], [56], [56], [56], [56], [56], [56], [56], [56], [56], [56], [56], [56], [56], [56], [56], [56], [56], [56], [56], [56], [56], [56], [56], [56], [56], [56], [56], [46], [46], [46], [46], [46], [46], [46], [46], [46], [46], [46], [46], [46], [46], [46], [46], [46], [46], [46], [46], [46], [46], [46], [46], [46], [46], [46], [46], [46], [46], [46], [46], [46], [46], [46], [46], [46], [46], [46], [46], [46], [46], [46], [46], [46], [124], [124], [124], [124], [124], [124], [124], [124], [124], [124], [124], [124], [124], [124], [124], [124], [124], [124], [124], [124], [124], [124], [124], [124], [124], [124], [124], [124], [124], [124], [124], [124], [124], [124], [124], [124], [124], [53], [53], [53], [53], [53], [53], [53], [53], [53], [53], [53], [53], [53], [53], [53], [53], [53], [53], [53], [53], [53], [53], [53], [53], [53], [53], [53], [53], [53], [53], [53], [53], [53], [53], [53], [53], [53], [53], [53], [53], [18], [18], [18], [18], [18], [18], [18], [18], [18], [18], [18], [18], [18], [18], [18], [18], [18], [18], [18], [18], [18], [18], [18], [18], [18], [18], [18], [18], [18], [18], [18], [18], [18], [18], [18], [18], [18], [18], [18, 265], [18, 265], [18, 265], [18, 265], [18, 265], [18, 265], [18, 265], [18, 265], [18, 265], [18, 265], [18, 265], [18, 265], [18, 265], [18, 265], [18, 265], [18, 265], [18, 265], [18, 265], [18, 265], [18, 265], [18, 265], [18, 265], [18, 265], [18, 265], [18, 265], [18, 265], [18, 265], [18, 265], [18, 265], [18, 265], [18, 265], [18, 265], [18, 265], [90, 289], [90, 289], [90, 289], [90, 289], [90, 289], [90, 289], [90, 289], [90, 289], [90, 289], [90, 289], [90, 289], [90, 289], [90, 289], [90, 289], [90, 289], [90, 289], [90, 289], [90, 289], [90, 289], [90, 289], [90, 289], [90, 289], [90, 289], [90, 289], [90, 289], [90, 289], [90, 289], [90, 289], [90, 289], [58], [58], [58], [58], [58], [58], [58], [58], [58], [58], [58], [58], [58], [58], [58], [58], [58], [58], [58], [58], [58], [58], [58], [58], [58], [58], [58], [58], [58], [58], [58], [58], [58], [58], [58], [58], [58], [58], [58], [187], [187], [187], [187], [187], [187], [187], [187], [187], [187], [187], [187], [187], [187], [187], [187], [187], [187], [187], [187], [187], [187], [187], [187], [187], [187], [187], [187], [187], [187], [187], [187], [187], [187], [106], [106], [106], [106], [106], [106], [106], [106], [106], [106], [106], [106], [106], [106], [106], [106], [106], [106], [106], [106], [106], [106], [106], [106], [106], [106], [106], [106], [106], [106], [106], [106], [106], [106], [106], [80], [80], [80], [80], [80], [80], [80], [80], [80], [80], [80], [80], [80], [80], [80], [80], [80], [80], [80], [80], [80], [80], [80], [80], [80], [80], [80], [80], [80], [80], [80], [80], [80], [80], [80], [80], [80], [80], [97], [97], [97], [97], [97], [97], [97], [97], [97], [97], [97], [97], [97], [97], [97], [97], [97], [97], [97], [97], [97], [97], [97], [97], [97], [97], [97], [97], [97], [97], [97], [97], [97], [97], [97], [97], [35, 44], [35, 44], [35, 44], [35, 44], [35, 44], [35, 44], [35, 44], [35, 44], [35, 44], [35, 44], [35, 44], [35, 44], [35, 44], [35, 44], [35, 44], [35, 44], [35, 44], [35, 44], [35, 44], [35, 21], [35, 21], [35, 21], [35, 21], [35, 21], [35, 21], [35, 21], [35, 21], [35, 21], [35, 21], [35, 21], [35, 21], [35, 21], [35, 21], [35, 21], [35, 21], [35, 21], [35, 21], [35, 21], [35, 21], [35, 21], [35, 21], [35, 21], [35, 21], [35, 21], [35, 21], [35, 21], [35, 21], [35, 21], [35, 21], [35, 21], [35, 21], [132], [132], [132], [132], [132], [132], [132], [132], [132], [132], [132], [132], [132], [132], [132], [132], [132], [132], [132], [132], [132], [132], [132], [132], [132], [132], [132], [132], [132], [132], [132], [132], [132], [132], [132], [244], [244], [244], [244], [244], [244], [244], [244], [244], [244], [244], [244], [244], [244], [244], [244], [244], [244], [244], [244], [244], [244], [244], [244], [244], [244], [244], [244], [244], [244], [244], [244], [62], [62], [62], [62], [62], [62], [62], [62], [62], [62], [62], [62], [62], [62], [62], [62], [62], [62], [62], [62], [62], [62], [62], [62], [62], [62], [62], [62], [62], [62], [62], [62], [62], [62], [62], [62], [62], [62], [62], [62], [62], [174], [174], [174], [174], [174], [174], [174], [174], [174], [174], [174], [174], [174], [174], [174], [174], [174], [174], [174], [174], [174], [174], [174], [174], [174], [174], [174], [174], [174], [174], [174], [174], [174], [174], [155], [155], [155], [155], [155], [155], [155], [155], [155], [155], [155], [155], [155], [155], [155], [155], [155], [155], [155], [155], [155], [155], [155], [155], [155], [155], [155], [155], [155], [155], [155], [155], [155], [155], [155], [147, 255], [147, 255], [147, 255], [147, 255], [147, 255], [147, 255], [147, 255], [147, 255], [147, 255], [147, 255], [147, 255], [147, 255], [147, 255], [147, 255], [147, 255], [147, 255], [147, 255], [147, 255], [147, 255], [147, 255], [147, 255], [147, 255], [147, 255], [147, 255], [147, 255], [147, 255], [147, 255], [147, 255], [147, 255], [147, 255], [147, 255], [147, 255], [147, 255], [147, 255], [101], [101], [101], [101], [101], [101], [101], [101], [101], [101], [101], [101], [101], [101], [101], [101], [101], [101], [101], [101], [101], [101], [101], [101], [101], [101], [101], [101], [101], [101], [101], [101], [101], [101], [101], [101], [101], [101], [101], [221], [221], [221], [221], [221], [221], [221], [221], [221], [221], [221], [221], [221], [221], [221], [221], [221], [221], [221], [221], [221], [221], [221], [221], [221], [221], [221], [221], [221], [221], [221], [221], [221], [175], [175], [175], [175], [175], [175], [175], [175], [175], [175], [175], [175], [175], [175], [175], [175], [175], [175], [175], [175], [175], [175], [175], [175], [175], [175], [175], [175], [175], [175], [175], [175], [175], [175], [175], [228], [228], [228], [228], [228], [228], [228], [228], [228], [228], [228], [228], [228], [228], [228], [228], [228], [228], [228], [228], [228], [228], [228], [228], [228], [228], [228], [228], [228], [228], [228], [228], [232], [232], [232], [232], [232], [232], [232], [232], [232], [232], [232], [232], [232], [232], [232], [232], [232], [232], [232], [232], [232], [232], [232], [232], [232], [232], [232], [232], [232], [232], [232], [118], [118], [118], [118], [118], [118], [118], [118], [118], [118], [118], [118], [118], [118], [118], [118], [118], [118], [118], [118], [118], [118], [118], [118], [118], [118], [118], [118], [118], [118], [118], [118], [118], [118], [118], [118], [118], [88], [88], [88], [88], [88], [88], [88], [88], [88], [88], [88], [88], [88], [88], [88], [88], [88], [88], [88], [88], [88], [88], [88], [88], [88], [88], [88], [88], [88], [88], [88], [88], [88], [88], [88], [88], [88], [88], [108], [108], [108], [108], [108], [108], [108], [108], [108], [108], [108], [108], [108], [108], [108], [108], [108], [108], [108], [108], [108], [108], [108], [108], [108], [108], [108], [108], [108], [108], [108], [108], [108], [108], [108], [180], [180], [180], [180], [180], [180], [180], [180], [180], [180], [180], [180], [180], [180], [180], [180], [180], [180], [180], [180], [180], [180], [180], [180], [180], [180], [180], [180], [180], [180], [180], [180], [180], [91], [91], [91], [91], [91], [91], [91], [91], [91], [91], [91], [91], [91], [91], [91], [91], [91], [91], [91], [91], [91], [91], [91], [91], [91], [91], [91], [91], [91], [91], [91], [91], [91], [91], [91], [91], [91], [91], [168], [168], [168], [168], [168], [168], [168], [168], [168], [168], [168], [168], [168], [168], [168], [168], [168], [168], [168], [168], [168], [168], [168], [168], [168], [168], [168], [168], [168], [168], [168], [168], [168], [168], [168], [383], [383], [383], [383], [383], [383], [383], [383], [383], [383], [201], [201], [201], [201], [201], [201], [201], [201], [201], [201], [201], [201], [201], [201], [201], [201], [201], [201], [201], [201], [201], [201], [201], [201], [201], [201], [201], [201], [201], [201], [201], [201], [201], [188], [188], [188], [188], [188], [188], [188], [188], [188], [188], [188], [188], [188], [188], [188], [188], [188], [188], [188], [188], [188], [188], [188], [188], [188], [188], [188], [188], [188], [188], [188], [188], [188], [188], [170], [170], [170], [170], [170], [170], [170], [170], [170], [170], [170], [170], [170], [170], [170], [170], [170], [170], [170], [170], [170], [170], [170], [170], [170], [170], [170], [170], [170], [170], [170], [170], [170], [156, 256], [156, 256], [156, 256], [156, 256], [156, 256], [156, 256], [156, 256], [156, 256], [156, 256], [156, 256], [156, 256], [156, 256], [156, 256], [156, 256], [156, 256], [156, 256], [156, 256], [156, 256], [156, 256], [156, 256], [156, 256], [156, 256], [156, 256], [156, 256], [156, 256], [156, 256], [156, 256], [156, 256], [156, 256], [156, 256], [156, 256], [156, 256], [156, 256], [156, 256], [28, 266], [28, 266], [28, 266], [28, 266], [28, 266], [28, 266], [28, 266], [28, 266], [28, 266], [28, 266], [28, 266], [28, 266], [28, 266], [28, 266], [28, 266], [28, 266], [28, 266], [28, 266], [28, 266], [28, 266], [28, 266], [28, 266], [28, 266], [28, 266], [28, 266], [28, 266], [28, 266], [28, 266], [28, 266], [28, 266], [28, 266], [28, 266], [28, 266], [28, 278], [28, 278], [28, 278], [28, 278], [28, 278], [28, 278], [28, 278], [28, 278], [28, 278], [28, 278], [28, 278], [28, 278], [28, 278], [28, 278], [28, 278], [28, 278], [28, 278], [28, 278], [28, 278], [28, 278], [28, 278], [28, 278], [28, 278], [28, 278], [28, 278], [28, 278], [28, 278], [28, 278], [28, 278], [28, 278], [28, 278], [28, 278], [134], [134], [134], [134], [134], [134], [134], [134], [134], [134], [134], [134], [134], [134], [134], [134], [134], [134], [134], [134], [134], [134], [134], [134], [134], [134], [134], [134], [134], [134], [134], [134], [134], [134], [134], [134], [260], [260], [260], [260], [260], [260], [260], [260], [260], [260], [260], [260], [260], [260], [260], [260], [260], [260], [260], [260], [260], [260], [260], [260], [260], [260], [260], [260], [260], [260], [206], [206], [206], [206], [206], [206], [206], [206], [206], [206], [206], [206], [206], [206], [206], [206], [206], [206], [206], [206], [206], [206], [206], [206], [206], [206], [206], [206], [206], [206], [206], [206], [206], [128], [128], [128], [128], [128], [128], [128], [128], [128], [128], [128], [128], [128], [128], [128], [128], [128], [128], [128], [128], [128], [128], [128], [128], [128], [128], [128], [128], [128], [128], [128], [128], [128], [128], [135], [135], [135], [135], [135], [135], [135], [135], [135], [135], [135], [135], [135], [135], [135], [135], [135], [135], [135], [135], [135], [135], [135], [135], [135], [135], [135], [135], [135], [135], [135], [135], [135], [135], [135], [135], [135], [152, 32], [152, 32], [152, 32], [152, 32], [152, 32], [152, 32], [152, 32], [152, 32], [152, 32], [152, 32], [152, 32], [152, 32], [152, 32], [152, 32], [152, 32], [152, 32], [152, 32], [152, 32], [152, 32], [152, 32], [152, 32], [152, 32], [152, 32], [152, 32], [152, 32], [152, 32], [152, 32], [152, 32], [152, 32], [152, 32], [152, 32], [152, 32], [152, 32], [152, 32], [22, 32], [22, 32], [22, 32], [22, 32], [22, 32], [22, 32], [22, 32], [22, 32], [22, 32], [22, 32], [22, 32], [22, 32], [22, 32], [22, 32], [22, 32], [22, 32], [22, 32], [22, 32], [22, 32], [22, 32], [22, 32], [22, 32], [22, 32], [22, 32], [22, 32], [22, 32], [22, 32], [22, 32], [22, 32], [22, 32], [22, 32], [22, 32], [22, 32], [22, 32], [22, 237], [22, 237], [22, 237], [22, 237], [22, 237], [22, 237], [22, 237], [22, 237], [22, 237], [22, 237], [22, 237], [22, 237], [22, 237], [22, 237], [22, 237], [22, 237], [22, 237], [22, 237], [22, 237], [22, 237], [22, 237], [22, 237], [22, 237], [22, 237], [22, 237], [22, 237], [22, 237], [22, 237], [22, 237], [22, 237], [22, 237], [22, 237], [22, 237], [22, 237], [22, 237], [22, 237], [243], [243], [243], [243], [243], [243], [243], [243], [243], [243], [243], [243], [243], [243], [243], [243], [243], [243], [243], [243], [243], [243], [243], [243], [243], [243], [243], [243], [243], [243], [243], [242], [242], [242], [242], [242], [242], [242], [242], [242], [242], [242], [242], [242], [242], [242], [242], [242], [242], [242], [242], [242], [242], [242], [242], [242], [242], [242], [242], [242], [242], [242], [259], [259], [259], [259], [259], [259], [259], [259], [259], [259], [259], [259], [259], [259], [259], [259], [259], [259], [259], [259], [259], [259], [259], [259], [259], [259], [259], [259], [259], [74, 205], [74, 205], [74, 205], [74, 205], [74, 205], [74, 205], [74, 205], [74, 205], [74, 205], [74, 205], [74, 205], [74, 205], [74, 205], [74, 205], [74, 205], [74, 205], [74, 205], [74, 205], [74, 205], [74, 205], [74, 205], [74, 205], [74, 205], [74, 205], [74, 205], [74, 205], [74, 205], [74, 205], [74, 205], [74, 205], [74, 205], [74, 205], [74, 205], [74, 205], [74, 205], [74, 205], [74, 205], [74, 205], [70], [70], [70], [70], [70], [70], [70], [70], [70], [70], [70], [70], [70], [70], [70], [70], [70], [70], [70], [70], [70], [70], [70], [70], [70], [70], [70], [70], [70], [70], [70], [70], [70], [70], [70], [70], [70], [70], [70], [70], [125], [125], [125], [125], [125], [125], [125], [125], [125], [125], [125], [125], [125], [125], [125], [125], [125], [125], [125], [125], [125], [125], [125], [125], [125], [125], [125], [125], [125], [125], [125], [125], [125], [125], [125], [125], [125], [111], [111], [111], [111], [111], [111], [111], [111], [111], [111], [111], [111], [111], [111], [111], [111], [111], [111], [111], [111], [111], [111], [111], [111], [111], [111], [111], [111], [111], [111], [111], [111], [111], [111], [111], [111], [111], [212], [212], [212], [212], [212], [212], [212], [212], [212], [212], [212], [212], [212], [212], [212], [212], [212], [212], [212], [212], [212], [212], [212], [212], [212], [212], [212], [212], [212], [212], [212], [212], [212], [40], [40], [40], [40], [40], [40], [40], [40], [40], [40], [40], [40], [40], [40], [40], [40], [40], [40], [40], [40], [40], [40], [40], [40], [40], [40], [40], [40], [40], [40], [40], [40], [40], [40], [40], [40], [40], [184], [184], [184], [184], [184], [184], [184], [184], [184], [184], [184], [184], [184], [184], [184], [184], [184], [184], [184], [184], [184], [184], [184], [184], [184], [184], [184], [184], [184], [184], [184], [184], [184], [184], [119], [119], [119], [119], [119], [119], [119], [119], [119], [119], [119], [119], [119], [119], [119], [119], [119], [119], [119], [119], [119], [119], [119], [119], [119], [119], [119], [119], [119], [119], [119], [119], [119], [119], [119], [119], [119], [388, 123], [388, 123], [388, 123], [388, 123], [388, 123], [388, 123], [388, 123], [388, 123], [388, 123], [192], [192], [192], [192], [192], [192], [192], [192], [192], [192], [192], [192], [192], [192], [192], [192], [192], [192], [192], [192], [192], [192], [192], [192], [192], [192], [192], [192], [192], [192], [192], [192], [192], [192], [176], [176], [176], [176], [176], [176], [176], [176], [176], [176], [176], [176], [176], [176], [176], [176], [176], [176], [176], [176], [176], [176], [176], [176], [176], [176], [176], [176], [176], [176], [176], [176], [176], [176], [176], [117], [117], [117], [117], [117], [117], [117], [117], [117], [117], [117], [117], [117], [117], [117], [117], [117], [117], [117], [117], [117], [117], [117], [117], [117], [117], [117], [117], [117], [117], [117], [117], [117], [117], [117], [117], [292], [292], [292], [292], [292], [292], [292], [292], [292], [292], [292], [292], [292], [292], [292], [292], [292], [292], [292], [292], [292], [292], [154], [154], [154], [154], [154], [154], [154], [154], [154], [154], [154], [154], [154], [154], [154], [154], [154], [154], [154], [154], [154], [154], [154], [154], [154], [154], [154], [154], [154], [154], [154], [154], [154], [154], [154], [153], [153], [153], [153], [153], [153], [153], [153], [153], [153], [153], [153], [153], [153], [153], [153], [153], [153], [153], [153], [153], [153], [153], [153], [153], [153], [153], [153], [153], [153], [153], [153], [153], [153], [153], [179], [179], [179], [179], [179], [179], [179], [179], [179], [179], [179], [179], [179], [179], [179], [179], [179], [179], [179], [179], [179], [179], [179], [179], [179], [179], [179], [179], [179], [179], [179], [179], [179], [179], [165], [165], [165], [165], [165], [165], [165], [165], [165], [165], [165], [165], [165], [165], [165], [165], [165], [165], [165], [165], [165], [165], [165], [165], [165], [165], [165], [165], [165], [165], [165], [165], [165], [165], [165], [279], [279], [279], [279], [279], [279], [279], [279], [279], [279], [279], [279], [279], [279], [279], [279], [279], [279], [279], [279], [279], [279], [279], [279], [279], [279], [279], [279], [113], [113], [113], [113], [113], [113], [113], [113], [113], [113], [113], [113], [113], [113], [113], [113], [113], [113], [113], [113], [113], [113], [113], [113], [113], [113], [113], [113], [113], [113], [113], [113], [113], [113], [113], [113], [113], [120], [120], [120], [120], [120], [120], [120], [120], [120], [120], [120], [120], [120], [120], [120], [120], [120], [120], [120], [120], [120], [120], [120], [120], [120], [120], [120], [120], [120], [120], [120], [120], [120], [120], [120], [120], [120], [181], [181], [181], [181], [181], [181], [181], [181], [181], [181], [181], [181], [181], [181], [181], [181], [181], [181], [181], [181], [181], [181], [181], [181], [181], [181], [181], [181], [181], [181], [181], [181], [181], [181], [122], [122], [122], [122], [122], [122], [122], [122], [122], [122], [122], [122], [122], [122], [122], [122], [122], [122], [122], [122], [122], [122], [122], [122], [122], [122], [122], [122], [122], [122], [122], [122], [122], [122], [122], [122], [169], [169], [169], [169], [169], [169], [169], [169], [169], [169], [169], [169], [169], [169], [169], [169], [169], [169], [169], [169], [169], [169], [169], [169], [169], [169], [169], [169], [169], [169], [169], [169], [169], [169], [169], [269], [269], [269], [269], [269], [269], [269], [269], [269], [269], [269], [269], [269], [269], [269], [269], [269], [269], [269], [269], [269], [269], [269], [269], [269], [269], [269], [269], [269], [84], [84], [84], [84], [84], [84], [84], [84], [84], [84], [84], [84], [84], [84], [84], [84], [84], [84], [84], [84], [84], [84], [84], [84], [84], [84], [84], [84], [84], [84], [84], [84], [84], [84], [84], [84], [84], [84], [84], [55], [55], [55], [55], [55], [55], [55], [55], [55], [55], [55], [55], [55], [55], [55], [55], [55], [55], [55], [55], [55], [55], [55], [55], [55], [55], [55], [55], [55], [55], [55], [55], [55], [55], [55], [55], [55], [55], [55], [55], [55], [95], [95], [95], [95], [95], [95], [95], [95], [95], [95], [95], [95], [95], [95], [95], [95], [95], [95], [95], [95], [95], [95], [95], [95], [95], [95], [95], [95], [95], [95], [95], [95], [95], [95], [95], [95], [95], [95], [95], [95], [268], [268], [268], [268], [268], [268], [268], [268], [268], [268], [268], [268], [268], [268], [268], [268], [268], [268], [268], [268], [268], [268], [268], [268], [268], [268], [268], [268], [268], [144], [144], [144], [144], [144], [144], [144], [144], [144], [144], [144], [144], [144], [144], [144], [144], [144], [144], [144], [144], [144], [144], [144], [144], [144], [144], [144], [144], [144], [144], [144], [144], [144], [144], [272], [272], [272], [272], [272], [272], [272], [272], [272], [272], [272], [272], [272], [272], [272], [272], [272], [272], [272], [272], [272], [272], [272], [272], [272], [272], [272], [272], [272], [45], [45], [45], [45], [45], [45], [45], [45], [45], [45], [45], [45], [45], [45], [45], [45], [45], [45], [45], [45], [45], [45], [45], [45], [45], [45], [45], [45], [45], [45], [45], [45], [45], [45], [45], [225], [225], [225], [225], [225], [225], [225], [225], [225], [225], [225], [225], [225], [225], [225], [225], [225], [225], [225], [225], [225], [225], [225], [225], [225], [225], [225], [225], [225], [225], [225], [225], [225], [157, 249], [157, 249], [157, 249], [157, 249], [157, 249], [157, 249], [157, 249], [157, 249], [157, 249], [157, 249], [157, 249], [157, 249], [157, 249], [157, 249], [157, 249], [157, 249], [157, 249], [157, 249], [157, 249], [157, 249], [157, 249], [157, 249], [157, 249], [157, 249], [157, 249], [157, 249], [157, 249], [157, 249], [157, 249], [157, 249], [157, 249], [157, 249], [157, 249], [157, 249], [157, 249], [16, 250], [16, 250], [16, 250], [16, 250], [16, 250], [16, 250], [16, 250], [16, 250], [16, 250], [16, 250], [16, 250], [16, 250], [16, 250], [16, 250], [16, 250], [16, 250], [16, 250], [16, 250], [16, 250], [16, 250], [16, 250], [16, 250], [16, 250], [16, 250], [16, 250], [16, 250], [16, 250], [16, 250], [16, 250], [16, 250], [16, 250], [16, 250], [16, 250], [16, 250], [16, 250], [16, 285], [16, 285], [16, 285], [16, 285], [16, 285], [16, 285], [16, 285], [16, 285], [16, 285], [16, 285], [16, 285], [16, 285], [16, 285], [16, 285], [16, 285], [16, 285], [16, 285], [16, 285], [16, 285], [16, 285], [16, 285], [16, 285], [16, 285], [16, 285], [16, 285], [16, 285], [16, 285], [16, 285], [16, 285], [16, 285], [16, 285], [16, 267], [16, 267], [16, 267], [16, 267], [16, 267], [16, 267], [16, 267], [16, 267], [16, 267], [16, 267], [16, 267], [16, 267], [16, 267], [16, 267], [16, 267], [16, 267], [16, 267], [16, 267], [16, 267], [16, 267], [16, 267], [16, 267], [16, 267], [16, 267], [16, 267], [16, 267], [16, 267], [16, 267], [16, 267], [16, 267], [16, 267], [16, 267], [16, 267], [96], [96], [96], [96], [96], [96], [96], [96], [96], [96], [96], [96], [96], [96], [96], [96], [96], [96], [96], [96], [96], [96], [96], [96], [96], [96], [96], [96], [96], [96], [96], [96], [96], [96], [96], [96], [96], [96], [96], [213], [213], [213], [213], [213], [213], [213], [213], [213], [213], [213], [213], [213], [213], [213], [213], [213], [213], [213], [213], [213], [213], [213], [213], [213], [213], [213], [213], [213], [213], [213], [213], [196], [196], [196], [196], [196], [196], [196], [196], [196], [196], [196], [196], [196], [196], [196], [196], [196], [196], [196], [196], [196], [196], [196], [196], [196], [196], [196], [196], [196], [196], [196], [196], [196], [240], [240], [240], [240], [240], [240], [240], [240], [240], [240], [240], [240], [240], [240], [240], [240], [240], [240], [240], [240], [240], [240], [240], [240], [240], [240], [240], [240], [240], [240], [173], [173], [173], [173], [173], [173], [173], [173], [173], [173], [173], [173], [173], [173], [173], [173], [173], [173], [173], [173], [173], [173], [173], [173], [173], [173], [173], [173], [173], [173], [173], [173], [173], [173], [227], [227], [227], [227], [227], [227], [227], [227], [227], [227], [227], [227], [227], [227], [227], [227], [227], [227], [227], [227], [227], [227], [227], [227], [227], [227], [227], [227], [227], [227], [227], [359], [359], [359], [359], [359], [359], [359], [359], [359], [359], [359], [87], [87], [87], [87], [87], [87], [87], [87], [87], [87], [87], [87], [87], [87], [87], [87], [87], [87], [87], [87], [87], [87], [87], [87], [87], [87], [87], [87], [87], [87], [87], [87], [87], [87], [87], [87], [87], [87], [171], [171], [171], [171], [171], [171], [171], [171], [171], [171], [171], [171], [171], [171], [171], [171], [171], [171], [171], [171], [171], [171], [171], [171], [171], [171], [171], [171], [171], [171], [171], [171], [171], [161], [161], [161], [161], [161], [161], [161], [161], [161], [161], [161], [161], [161], [161], [161], [161], [161], [161], [161], [161], [161], [161], [161], [161], [161], [161], [161], [161], [161], [161], [161], [161], [161], [161], [161], [137], [137], [137], [137], [137], [137], [137], [137], [137], [137], [137], [137], [137], [137], [137], [137], [137], [137], [137], [137], [137], [137], [137], [137], [137], [137], [137], [137], [137], [137], [137], [137], [137], [137], [137], [137], [204], [204], [204], [204], [204], [204], [204], [204], [204], [204], [204], [204], [204], [204], [204], [204], [204], [204], [204], [204], [204], [204], [204], [204], [204], [204], [204], [204], [204], [204], [204], [204], [226], [226], [226], [226], [226], [226], [226], [226], [226], [226], [226], [226], [226], [226], [226], [226], [226], [226], [226], [226], [226], [226], [226], [226], [226], [226], [226], [226], [226], [226], [226], [158], [158], [158], [158], [158], [158], [158], [158], [158], [158], [158], [158], [158], [158], [158], [158], [158], [158], [158], [158], [158], [158], [158], [158], [158], [158], [158], [158], [158], [158], [158], [158], [158], [158], [158], [211], [211], [211], [211], [211], [211], [211], [211], [211], [211], [211], [211], [211], [211], [211], [211], [211], [211], [211], [211], [211], [211], [211], [211], [211], [211], [211], [211], [211], [211], [211], [211], [211], [189], [189], [189], [189], [189], [189], [189], [189], [189], [189], [189], [189], [189], [189], [189], [189], [189], [189], [189], [189], [189], [189], [189], [189], [189], [189], [189], [189], [189], [189], [189], [189], [189], [189], [75], [75], [75], [75], [75], [75], [75], [75], [75], [75], [75], [75], [75], [75], [75], [75], [75], [75], [75], [75], [75], [75], [75], [75], [75], [75], [75], [75], [75], [75], [75], [75], [75], [75], [75], [75], [75], [75], [75], [75], [64], [64], [64], [64], [64], [64], [64], [64], [64], [64], [64], [64], [64], [64], [64], [64], [64], [64], [64], [64], [64], [64], [64], [64], [64], [64], [64], [64], [64], [64], [64], [64], [64], [64], [64], [64], [64], [64], [121], [121], [121], [121], [121], [121], [121], [121], [121], [121], [121], [121], [121], [121], [121], [121], [121], [121], [121], [121], [121], [121], [121], [121], [121], [121], [121], [121], [121], [121], [121], [121], [121], [121], [121], [121], [121], [121], [199, 30], [199, 30], [199, 30], [199, 30], [199, 30], [199, 30], [199, 30], [199, 30], [199, 30], [199, 30], [199, 30], [199, 30], [199, 30], [199, 30], [199, 30], [199, 30], [199, 30], [199, 30], [199, 30], [199, 30], [199, 30], [199, 30], [199, 30], [199, 30], [199, 30], [199, 30], [199, 30], [199, 30], [199, 30], [199, 30], [199, 30], [199, 30], [199, 30], [282], [282], [282], [282], [282], [282], [282], [282], [282], [282], [282], [282], [282], [282], [282], [282], [282], [282], [282], [282], [282], [282], [282], [282], [282], [282], [282], [220, 306], [220, 306], [220, 306], [220, 306], [220, 306], [220, 306], [220, 306], [220, 306], [220, 306], [220, 306], [220, 306], [220, 306], [220, 306], [220, 306], [220, 306], [220, 306], [220, 306], [220, 306], [220, 306], [220, 306], [220, 306], [220, 306], [220, 306], [220, 306], [78], [78], [78], [78], [78], [78], [78], [78], [78], [78], [78], [78], [78], [78], [78], [78], [78], [78], [78], [78], [78], [78], [78], [78], [78], [78], [78], [78], [78], [78], [78], [78], [78], [78], [78], [78], [78], [78], [78], [79], [79], [79], [79], [79], [79], [79], [79], [79], [79], [79], [79], [79], [79], [79], [79], [79], [79], [79], [79], [79], [79], [79], [79], [79], [79], [79], [79], [79], [79], [79], [79], [79], [79], [79], [79], [79], [79], [79], [89], [89], [89], [89], [89], [89], [89], [89], [89], [89], [89], [89], [89], [89], [89], [89], [89], [89], [89], [89], [89], [89], [89], [89], [89], [89], [89], [89], [89], [89], [89], [89], [89], [89], [89], [89], [89], [89], [89], [198, 21], [198, 21], [198, 21], [198, 21], [198, 21], [198, 21], [198, 21], [198, 21], [198, 21], [198, 21], [198, 21], [198, 21], [198, 21], [198, 21], [198, 21], [198, 21], [198, 21], [198, 21], [198, 21], [198, 21], [198, 21], [198, 21], [198, 21], [198, 21], [198, 21], [198, 21], [198, 21], [198, 21], [198, 21], [198, 21], [198, 21], [109], [109], [109], [109], [109], [109], [109], [109], [109], [109], [109], [109], [109], [109], [109], [109], [109], [109], [109], [109], [109], [109], [109], [109], [109], [109], [109], [109], [109], [109], [109], [109], [109], [76], [76], [76], [76], [76], [76], [76], [76], [76], [76], [76], [76], [76], [76], [76], [76], [76], [76], [76], [76], [76], [76], [76], [76], [76], [76], [76], [76], [76], [76], [76], [76], [76], [76], [76], [76], [76], [76], [76], [76], [102], [102], [102], [102], [102], [102], [102], [102], [102], [102], [102], [102], [102], [102], [102], [102], [102], [102], [102], [102], [102], [102], [102], [102], [102], [102], [102], [102], [102], [102], [102], [102], [102], [102], [102], [102], [102], [207], [207], [207], [207], [207], [207], [207], [207], [207], [207], [207], [207], [207], [207], [207], [207], [207], [207], [207], [207], [207], [207], [207], [207], [207], [207], [207], [207], [207], [207], [207], [207], [207], [73], [73], [73], [73], [73], [73], [73], [73], [73], [73], [73], [73], [73], [73], [73], [73], [73], [73], [73], [73], [73], [73], [73], [73], [73], [73], [73], [73], [73], [73], [73], [73], [73], [73], [73], [73], [73], [85], [85], [85], [85], [85], [85], [85], [85], [85], [85], [85], [85], [85], [85], [85], [85], [85], [85], [85], [85], [85], [85], [85], [85], [85], [85], [85], [85], [85], [85], [85], [85], [85], [85], [85], [85], [85], [85], [85], [86], [86], [86], [86], [86], [86], [86], [86], [86], [86], [86], [86], [86], [86], [86], [86], [86], [86], [86], [86], [86], [86], [86], [86], [86], [86], [86], [86], [86], [86], [86], [86], [86], [86], [86], [86], [86], [86], [86], [34], [34], [34], [34], [34], [34], [34], [34], [34], [34], [34], [34], [34], [34], [34], [34], [34], [34], [34], [34], [34], [34], [34], [34], [34], [34], [34], [34], [34], [34]]\n",
            "문자 개수 [388, 123]\n"
          ],
          "name": "stdout"
        }
      ]
    },
    {
      "cell_type": "code",
      "metadata": {
        "id": "VIvciViBEDAf",
        "colab_type": "code",
        "colab": {}
      },
      "source": [
        ""
      ],
      "execution_count": null,
      "outputs": []
    },
    {
      "cell_type": "code",
      "metadata": {
        "id": "Bt6tSnp-6btv",
        "colab_type": "code",
        "colab": {}
      },
      "source": [
        "from tensorflow.keras import Model,Input\n",
        "from tensorflow.keras.layers import Embedding,Flatten,Dense,Conv1D,LeakyReLU,MaxPool1D,concatenate,Dropout\n",
        "from tensorflow.keras.activations import sigmoid\n",
        "from tensorflow.keras.callbacks import EarlyStopping"
      ],
      "execution_count": null,
      "outputs": []
    },
    {
      "cell_type": "code",
      "metadata": {
        "id": "AuXBa_7G7s6W",
        "colab_type": "code",
        "colab": {}
      },
      "source": [
        "seq=pad_sequences(seq,101)"
      ],
      "execution_count": null,
      "outputs": []
    },
    {
      "cell_type": "code",
      "metadata": {
        "id": "R1EV3YyzECvY",
        "colab_type": "code",
        "colab": {}
      },
      "source": [
        "seq_keyword=pad_sequences(seq,2)"
      ],
      "execution_count": null,
      "outputs": []
    },
    {
      "cell_type": "code",
      "metadata": {
        "id": "kQUqwpRF8YsK",
        "colab_type": "code",
        "colab": {}
      },
      "source": [
        "#Text daa\n",
        "input_seq=Input((101,),name='text')\n",
        "embedded_seq=Embedding(10000,64)(input_seq)\n",
        "dropout_emb = Dropout(0.5)(embedded_seq)\n",
        "conv1=Conv1D(64,3,padding='same')(dropout_emb)\n",
        "Activation=LeakyReLU()(conv1)\n",
        "pooling1=MaxPool1D()(Activation)\n",
        "\n",
        "conv2=Conv1D(64,4,padding='same')(dropout_emb)\n",
        "Activation=LeakyReLU()(conv2)\n",
        "pooling2=MaxPool1D()(Activation)\n",
        "\n",
        "conv3=Conv1D(64,5,padding='same')(dropout_emb)\n",
        "Activation=LeakyReLU()(conv3)\n",
        "pooling3=MaxPool1D()(Activation)\n",
        "\n",
        "con=concatenate([pooling1,pooling2,pooling3])\n",
        "flat=Flatten()(con)\n",
        "hidden=Dense(64)(flat)\n",
        "\n",
        "\n",
        "\n",
        "#keyword data\n",
        "input_keyword=Input((2,),name='keyword')\n",
        "embedded_seq=Embedding(len(tokenizer.word_index)+1,4)(input_keyword)\n",
        "dropout_emb = Dropout(0.5)(embedded_seq)\n",
        "flat=Flatten()(dropout_emb)\n",
        "hidden_1=Dense(64)(flat)\n",
        "\n",
        "\n",
        "combine=concatenate([hidden,hidden_1])\n",
        "hidden3=Dense(32)(combine)\n",
        "activ=LeakyReLU()(hidden3)\n",
        "output=Dense(1,activation=sigmoid)(activ)\n",
        "\n",
        "\n",
        "\n"
      ],
      "execution_count": null,
      "outputs": []
    },
    {
      "cell_type": "code",
      "metadata": {
        "id": "zo6W_pZZKFly",
        "colab_type": "code",
        "colab": {}
      },
      "source": [
        "model=Model([input_seq,input_keyword],output)\n",
        "model.compile(optimizer='rmsprop',loss='binary_crossentropy',metrics=['acc'])"
      ],
      "execution_count": null,
      "outputs": []
    },
    {
      "cell_type": "code",
      "metadata": {
        "id": "dLZccPkyTKSV",
        "colab_type": "code",
        "colab": {
          "base_uri": "https://localhost:8080/",
          "height": 175
        },
        "outputId": "a6ac47cc-48b8-425f-93a0-9940fc5794a9"
      },
      "source": [
        "early_stopping = EarlyStopping(monitor='val_loss',)\n",
        "model.fit({'text':seq,'keyword':seq_keyword},\n",
        "          train['target'],\n",
        "          validation_split=0.2,\n",
        "          epochs=20,\n",
        "          batch_size=32,\n",
        "          callbacks=[early_stopping]\n",
        "          )"
      ],
      "execution_count": null,
      "outputs": [
        {
          "output_type": "stream",
          "text": [
            "Epoch 1/20\n",
            "191/191 [==============================] - 11s 57ms/step - loss: 0.5885 - acc: 0.6887 - val_loss: 0.4871 - val_acc: 0.7636\n",
            "Epoch 2/20\n",
            "191/191 [==============================] - 11s 58ms/step - loss: 0.4153 - acc: 0.8176 - val_loss: 0.4424 - val_acc: 0.8050\n",
            "Epoch 3/20\n",
            "191/191 [==============================] - 11s 58ms/step - loss: 0.3537 - acc: 0.8550 - val_loss: 0.4369 - val_acc: 0.8017\n",
            "Epoch 4/20\n",
            "191/191 [==============================] - 12s 61ms/step - loss: 0.3093 - acc: 0.8782 - val_loss: 0.4450 - val_acc: 0.8030\n"
          ],
          "name": "stdout"
        },
        {
          "output_type": "execute_result",
          "data": {
            "text/plain": [
              "<tensorflow.python.keras.callbacks.History at 0x7f9d358a6e10>"
            ]
          },
          "metadata": {
            "tags": []
          },
          "execution_count": 138
        }
      ]
    },
    {
      "cell_type": "code",
      "metadata": {
        "id": "as9oA_ZGWJpH",
        "colab_type": "code",
        "colab": {
          "base_uri": "https://localhost:8080/",
          "height": 263
        },
        "outputId": "9ef838c9-4616-4261-ce36-3f102a0fca1e"
      },
      "source": [
        "test=pd.read_csv('tdownload.csv')\n",
        "print(test)"
      ],
      "execution_count": null,
      "outputs": [
        {
          "output_type": "stream",
          "text": [
            "         id keyword location                                               text\n",
            "0         0     NaN      NaN                 Just happened a terrible car crash\n",
            "1         2     NaN      NaN  Heard about #earthquake is different cities, s...\n",
            "2         3     NaN      NaN  there is a forest fire at spot pond, geese are...\n",
            "3         9     NaN      NaN           Apocalypse lighting. #Spokane #wildfires\n",
            "4        11     NaN      NaN      Typhoon Soudelor kills 28 in China and Taiwan\n",
            "...     ...     ...      ...                                                ...\n",
            "3258  10861     NaN      NaN  EARTHQUAKE SAFETY LOS ANGELES ÛÒ SAFETY FASTE...\n",
            "3259  10865     NaN      NaN  Storm in RI worse than last hurricane. My city...\n",
            "3260  10868     NaN      NaN  Green Line derailment in Chicago http://t.co/U...\n",
            "3261  10874     NaN      NaN  MEG issues Hazardous Weather Outlook (HWO) htt...\n",
            "3262  10875     NaN      NaN  #CityofCalgary has activated its Municipal Eme...\n",
            "\n",
            "[3263 rows x 4 columns]\n"
          ],
          "name": "stdout"
        }
      ]
    },
    {
      "cell_type": "code",
      "metadata": {
        "id": "GJmRavRjh4wH",
        "colab_type": "code",
        "colab": {
          "base_uri": "https://localhost:8080/",
          "height": 562
        },
        "outputId": "b3a49fdc-63c3-42ba-d933-34f0f8939a47"
      },
      "source": [
        "for i,word in enumerate(test['keyword']):\n",
        "  if isinstance(word,str)==False:\n",
        "    test['keyword'][[i]]=''\n",
        "    print(word)  "
      ],
      "execution_count": null,
      "outputs": [
        {
          "output_type": "stream",
          "text": [
            "nan\n",
            "nan\n",
            "nan\n",
            "nan\n",
            "nan\n",
            "nan\n",
            "nan\n",
            "nan\n",
            "nan\n",
            "nan\n",
            "nan\n",
            "nan\n",
            "nan\n",
            "nan\n",
            "nan\n",
            "nan\n",
            "nan\n",
            "nan\n",
            "nan\n",
            "nan\n",
            "nan\n",
            "nan\n",
            "nan\n",
            "nan\n",
            "nan\n",
            "nan\n"
          ],
          "name": "stdout"
        },
        {
          "output_type": "stream",
          "text": [
            "/usr/local/lib/python3.6/dist-packages/ipykernel_launcher.py:3: SettingWithCopyWarning: \n",
            "A value is trying to be set on a copy of a slice from a DataFrame\n",
            "\n",
            "See the caveats in the documentation: https://pandas.pydata.org/pandas-docs/stable/user_guide/indexing.html#returning-a-view-versus-a-copy\n",
            "  This is separate from the ipykernel package so we can avoid doing imports until\n"
          ],
          "name": "stderr"
        }
      ]
    },
    {
      "cell_type": "code",
      "metadata": {
        "id": "mEuvJRlGi7lk",
        "colab_type": "code",
        "colab": {}
      },
      "source": [
        "test_seq=tokenizer.texts_to_sequences(test['text'])\n",
        "test_seq_keyword=tokenizer_keyword.texts_to_sequences(test['keyword'])\n",
        "test_seq=pad_sequences(test_seq,101)\n",
        "test_seq_keyword=pad_sequences(test_seq_keyword,2)"
      ],
      "execution_count": null,
      "outputs": []
    },
    {
      "cell_type": "code",
      "metadata": {
        "id": "4VYaJuFTgk31",
        "colab_type": "code",
        "colab": {}
      },
      "source": [
        "pridict=model.predict([test_seq,test_seq_keyword])"
      ],
      "execution_count": null,
      "outputs": []
    },
    {
      "cell_type": "code",
      "metadata": {
        "id": "78m4643ug1SP",
        "colab_type": "code",
        "colab": {
          "base_uri": "https://localhost:8080/",
          "height": 34
        },
        "outputId": "d3e41462-d985-4e65-e07e-1b7e4f7e23ae"
      },
      "source": [
        "print(len(test))"
      ],
      "execution_count": null,
      "outputs": [
        {
          "output_type": "stream",
          "text": [
            "3263\n"
          ],
          "name": "stdout"
        }
      ]
    },
    {
      "cell_type": "code",
      "metadata": {
        "id": "5Y9jUDBVkFE3",
        "colab_type": "code",
        "colab": {}
      },
      "source": [
        "sample=pd.read_csv('sample_submission.csv')"
      ],
      "execution_count": null,
      "outputs": []
    },
    {
      "cell_type": "code",
      "metadata": {
        "id": "qL2UEA13kXnD",
        "colab_type": "code",
        "colab": {}
      },
      "source": [
        "for i,num in enumerate(pridict):\n",
        "  if num>=0.5:\n",
        "    pridict[i]=1\n",
        "  else:\n",
        "    pridict[i]=0"
      ],
      "execution_count": null,
      "outputs": []
    },
    {
      "cell_type": "code",
      "metadata": {
        "id": "9bO027IRkeI6",
        "colab_type": "code",
        "colab": {}
      },
      "source": [
        "i=range(len(pridict))"
      ],
      "execution_count": null,
      "outputs": []
    },
    {
      "cell_type": "code",
      "metadata": {
        "id": "pQHZ-80VlpSk",
        "colab_type": "code",
        "colab": {
          "base_uri": "https://localhost:8080/",
          "height": 343
        },
        "outputId": "8c7543e0-723c-4f51-c99b-d7c74bca687d"
      },
      "source": [
        "import numpy\n",
        "submission_base = pd.DataFrame()\n",
        "submission_base['id'] = test['id']\n",
        "submission_base['target'] = numpy.round(pridict).astype(int)\n",
        "submission_base.head(10)"
      ],
      "execution_count": null,
      "outputs": [
        {
          "output_type": "execute_result",
          "data": {
            "text/html": [
              "<div>\n",
              "<style scoped>\n",
              "    .dataframe tbody tr th:only-of-type {\n",
              "        vertical-align: middle;\n",
              "    }\n",
              "\n",
              "    .dataframe tbody tr th {\n",
              "        vertical-align: top;\n",
              "    }\n",
              "\n",
              "    .dataframe thead th {\n",
              "        text-align: right;\n",
              "    }\n",
              "</style>\n",
              "<table border=\"1\" class=\"dataframe\">\n",
              "  <thead>\n",
              "    <tr style=\"text-align: right;\">\n",
              "      <th></th>\n",
              "      <th>id</th>\n",
              "      <th>target</th>\n",
              "    </tr>\n",
              "  </thead>\n",
              "  <tbody>\n",
              "    <tr>\n",
              "      <th>0</th>\n",
              "      <td>0</td>\n",
              "      <td>0</td>\n",
              "    </tr>\n",
              "    <tr>\n",
              "      <th>1</th>\n",
              "      <td>2</td>\n",
              "      <td>0</td>\n",
              "    </tr>\n",
              "    <tr>\n",
              "      <th>2</th>\n",
              "      <td>3</td>\n",
              "      <td>0</td>\n",
              "    </tr>\n",
              "    <tr>\n",
              "      <th>3</th>\n",
              "      <td>9</td>\n",
              "      <td>0</td>\n",
              "    </tr>\n",
              "    <tr>\n",
              "      <th>4</th>\n",
              "      <td>11</td>\n",
              "      <td>0</td>\n",
              "    </tr>\n",
              "    <tr>\n",
              "      <th>5</th>\n",
              "      <td>12</td>\n",
              "      <td>0</td>\n",
              "    </tr>\n",
              "    <tr>\n",
              "      <th>6</th>\n",
              "      <td>21</td>\n",
              "      <td>1</td>\n",
              "    </tr>\n",
              "    <tr>\n",
              "      <th>7</th>\n",
              "      <td>22</td>\n",
              "      <td>0</td>\n",
              "    </tr>\n",
              "    <tr>\n",
              "      <th>8</th>\n",
              "      <td>27</td>\n",
              "      <td>0</td>\n",
              "    </tr>\n",
              "    <tr>\n",
              "      <th>9</th>\n",
              "      <td>29</td>\n",
              "      <td>0</td>\n",
              "    </tr>\n",
              "  </tbody>\n",
              "</table>\n",
              "</div>"
            ],
            "text/plain": [
              "   id  target\n",
              "0   0       0\n",
              "1   2       0\n",
              "2   3       0\n",
              "3   9       0\n",
              "4  11       0\n",
              "5  12       0\n",
              "6  21       1\n",
              "7  22       0\n",
              "8  27       0\n",
              "9  29       0"
            ]
          },
          "metadata": {
            "tags": []
          },
          "execution_count": 187
        }
      ]
    },
    {
      "cell_type": "code",
      "metadata": {
        "id": "fT82gJTLmk4p",
        "colab_type": "code",
        "colab": {}
      },
      "source": [
        "submission_base.to_csv('sub2.csv')"
      ],
      "execution_count": null,
      "outputs": []
    },
    {
      "cell_type": "code",
      "metadata": {
        "id": "jBV7Ns-_ntE-",
        "colab_type": "code",
        "colab": {}
      },
      "source": [
        ""
      ],
      "execution_count": null,
      "outputs": []
    }
  ]
}